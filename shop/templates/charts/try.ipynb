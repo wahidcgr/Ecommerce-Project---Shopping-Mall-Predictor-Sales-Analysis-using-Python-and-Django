{
 "cells": [
  {
   "cell_type": "code",
   "execution_count": 1,
   "metadata": {},
   "outputs": [
    {
     "name": "stdout",
     "output_type": "stream",
     "text": [
      " Volume in drive C is Windows-SSD\n",
      " Volume Serial Number is 660C-F863\n",
      "\n",
      " Directory of c:\\Users\\LENOVO\\Desktop\\Projects\\delivery\\retail sop\\project\\shop\\templates\\charts\n",
      "\n",
      "29-09-2024  07:28    <DIR>          .\n",
      "02-10-2024  10:58    <DIR>          ..\n",
      "02-10-2024  18:08             3,836 bar_chart.html\n",
      "02-10-2024  18:07             3,762 graph.html\n",
      "15-09-2024  18:41             1,343 graph_filter.html\n",
      "20-09-2024  22:44         2,550,129 output_final.csv\n",
      "02-10-2024  18:02             2,209 pie_chart.html\n",
      "02-10-2024  18:08             4,083 pie_chart_filter.html\n",
      "20-09-2024  22:38             7,937 try.ipynb\n",
      "               7 File(s)      2,573,299 bytes\n",
      "               2 Dir(s)  252,915,527,680 bytes free\n"
     ]
    }
   ],
   "source": [
    "ls"
   ]
  },
  {
   "cell_type": "code",
   "execution_count": 2,
   "metadata": {},
   "outputs": [],
   "source": [
    "import pandas as pd"
   ]
  },
  {
   "cell_type": "code",
   "execution_count": 5,
   "metadata": {},
   "outputs": [],
   "source": [
    "df = pd.read_csv(r\"C:\\Users\\LENOVO\\Desktop\\Projects\\delivery\\retail sop\\project\\shop\\templates\\charts\\output_final.csv\")"
   ]
  },
  {
   "cell_type": "code",
   "execution_count": 6,
   "metadata": {},
   "outputs": [
    {
     "data": {
      "text/plain": [
       "array(['Clothing', 'Sports', 'Home & Garden', 'Toys', 'Electronics'],\n",
       "      dtype=object)"
      ]
     },
     "execution_count": 6,
     "metadata": {},
     "output_type": "execute_result"
    }
   ],
   "source": [
    "df['category'].unique()"
   ]
  },
  {
   "cell_type": "code",
   "execution_count": 7,
   "metadata": {},
   "outputs": [
    {
     "name": "stdout",
     "output_type": "stream",
     "text": [
      "  invoice_no customer_id  gender  age       category  quantity       price  \\\n",
      "0       INV1       CUST1    Male   59  Home & Garden         2  119.764977   \n",
      "1       INV2       CUST2    Male   39         Sports         1  309.014659   \n",
      "2       INV3       CUST3    Male   44           Toys         1   38.158716   \n",
      "3       INV4       CUST4  Female   21       Clothing         8  275.994360   \n",
      "4       INV5       CUST5  Female   31    Electronics         3  314.169506   \n",
      "\n",
      "  payment_method invoice_date      shopping_mall  \n",
      "0    Credit Card   2023-07-18       Istinye Park  \n",
      "1     Debit Card   2023-02-23  Emaar Square Mall  \n",
      "2     Debit Card   2023-01-19   Mall of Istanbul  \n",
      "3           Cash   2024-04-30       Istinye Park  \n",
      "4     Debit Card   2023-05-28       Istinye Park  \n"
     ]
    }
   ],
   "source": [
    "import pandas as pd\n",
    "import numpy as np\n",
    "import random\n",
    "import datetime\n",
    "\n",
    "# Create a DataFrame with the desired columns and initial values\n",
    "data = {\n",
    "    \"invoice_no\": [],\n",
    "    \"customer_id\": [],\n",
    "    \"gender\": [],\n",
    "    \"age\": [],\n",
    "    \"category\": [],\n",
    "    \"quantity\": [],\n",
    "    \"price\": [],\n",
    "    \"payment_method\": [],\n",
    "    \"invoice_date\": [],\n",
    "    \"shopping_mall\": []\n",
    "}\n",
    "\n",
    "# Generate random data for the columns\n",
    "for i in range(30000):\n",
    "    data[\"invoice_no\"].append(f\"INV{i+1}\")\n",
    "    data[\"customer_id\"].append(f\"CUST{i+1}\")\n",
    "    data[\"gender\"].append(np.random.choice([\"Male\", \"Female\"], p=[0.6, 0.4]))  # Uneven distribution favoring males\n",
    "    data[\"age\"].append(np.random.randint(18, 65))\n",
    "    data[\"category\"].append(np.random.choice(['Electronics', 'Toys', 'Clothing', 'Home & Garden', 'Sports']))\n",
    "    data[\"quantity\"].append(np.random.randint(1, 10))\n",
    "    data[\"price\"].append(np.random.uniform(10, 500))\n",
    "    data[\"payment_method\"].append(np.random.choice([\"Credit Card\", \"Debit Card\", \"Cash\"]))\n",
    "    data[\"invoice_date\"].append(pd.to_datetime(\"2023-01-01\") + pd.DateOffset(days=np.random.randint(0, (datetime.date.today() - datetime.date(2023, 1, 1)).days)))\n",
    "    data[\"shopping_mall\"].append(np.random.choice(['Metrocity', 'Istinye Park', 'Viaport Outlet', 'Kanyon',\n",
    "       'Emaar Square Mall', 'Mall of Istanbul', 'Zorlu Center',\n",
    "       'Forum Istanbul', 'Metropol AVM', 'Cevahir AVM']))\n",
    "\n",
    "# Create the DataFrame from the generated data\n",
    "df = pd.DataFrame(data)\n",
    "\n",
    "# Print the first few rows of the DataFrame\n",
    "print(df.head())"
   ]
  },
  {
   "cell_type": "code",
   "execution_count": 25,
   "metadata": {},
   "outputs": [
    {
     "data": {
      "text/plain": [
       "shopping_mall\n",
       "Mall of Istanbul     3097\n",
       "Metrocity            3063\n",
       "Forum Istanbul       3037\n",
       "Viaport Outlet       3027\n",
       "Emaar Square Mall    3013\n",
       "Metropol AVM         2983\n",
       "Zorlu Center         2962\n",
       "Istinye Park         2954\n",
       "Cevahir AVM          2947\n",
       "Kanyon               2917\n",
       "Name: count, dtype: int64"
      ]
     },
     "execution_count": 25,
     "metadata": {},
     "output_type": "execute_result"
    }
   ],
   "source": [
    "df['shopping_mall'].value_counts()"
   ]
  },
  {
   "cell_type": "code",
   "execution_count": 26,
   "metadata": {},
   "outputs": [],
   "source": [
    "df.to_csv('output_final.csv')"
   ]
  },
  {
   "cell_type": "code",
   "execution_count": 33,
   "metadata": {},
   "outputs": [
    {
     "name": "stdout",
     "output_type": "stream",
     "text": [
      "1663\n"
     ]
    },
    {
     "data": {
      "text/plain": [
       "gender\n",
       "Male      1026\n",
       "Female     637\n",
       "Name: count, dtype: int64"
      ]
     },
     "execution_count": 33,
     "metadata": {},
     "output_type": "execute_result"
    }
   ],
   "source": [
    "from datetime import datetime\n",
    "df['invoice_date'] = pd.to_datetime(df['invoice_date'],dayfirst=True)\n",
    "from_date = datetime.strptime('2024-03-01','%Y-%m-%d')\n",
    "to_date = datetime.strptime('2024-04-04','%Y-%m-%d')\n",
    "tf = df[(df['invoice_date'] >= from_date) & (df['invoice_date'] < to_date) ]\n",
    "print(len(tf))\n",
    "tf['gender'].value_counts()"
   ]
  },
  {
   "cell_type": "code",
   "execution_count": 35,
   "metadata": {},
   "outputs": [
    {
     "name": "stdout",
     "output_type": "stream",
     "text": [
      "2359\n"
     ]
    },
    {
     "data": {
      "text/plain": [
       "gender\n",
       "Male      1412\n",
       "Female     947\n",
       "Name: count, dtype: int64"
      ]
     },
     "execution_count": 35,
     "metadata": {},
     "output_type": "execute_result"
    }
   ],
   "source": [
    "df['invoice_date'] = pd.to_datetime(df['invoice_date'],dayfirst=True)\n",
    "from_date = datetime.strptime('2024-08-01','%Y-%m-%d')\n",
    "to_date = datetime.strptime('2024-09-30','%Y-%m-%d')\n",
    "tf = df[(df['invoice_date'] >= from_date) & (df['invoice_date'] < to_date) ]\n",
    "print(len(tf))\n",
    "tf['gender'].value_counts()"
   ]
  },
  {
   "cell_type": "code",
   "execution_count": 35,
   "metadata": {},
   "outputs": [],
   "source": [
    "df = pd.read_csv(r\"C:\\Users\\LENOVO\\Desktop\\Projects\\delivery\\retail sop\\project\\shop\\templates\\charts\\output_final.csv\")"
   ]
  },
  {
   "cell_type": "code",
   "execution_count": 36,
   "metadata": {},
   "outputs": [
    {
     "data": {
      "text/plain": [
       "Index(['invoice_no', 'customer_id', 'gender', 'age', 'category', 'quantity',\n",
       "       'price', 'payment_method', 'invoice_date', 'shopping_mall'],\n",
       "      dtype='object')"
      ]
     },
     "execution_count": 36,
     "metadata": {},
     "output_type": "execute_result"
    }
   ],
   "source": [
    "df.columns"
   ]
  },
  {
   "cell_type": "code",
   "execution_count": 37,
   "metadata": {},
   "outputs": [],
   "source": [
    "X = df[['gender','age','category','quantity','price','payment_method']]\n",
    "y = df[['shopping_mall']]"
   ]
  },
  {
   "cell_type": "code",
   "execution_count": 38,
   "metadata": {},
   "outputs": [
    {
     "name": "stderr",
     "output_type": "stream",
     "text": [
      "C:\\Users\\LENOVO\\AppData\\Local\\Temp\\ipykernel_18700\\2376887000.py:3: SettingWithCopyWarning: \n",
      "A value is trying to be set on a copy of a slice from a DataFrame.\n",
      "Try using .loc[row_indexer,col_indexer] = value instead\n",
      "\n",
      "See the caveats in the documentation: https://pandas.pydata.org/pandas-docs/stable/user_guide/indexing.html#returning-a-view-versus-a-copy\n",
      "  X['gender'] = le.fit_transform(df['gender'])\n"
     ]
    }
   ],
   "source": [
    "from sklearn.preprocessing import LabelEncoder\n",
    "le =LabelEncoder()\n",
    "X['gender'] = le.fit_transform(df['gender'])"
   ]
  },
  {
   "cell_type": "code",
   "execution_count": 39,
   "metadata": {},
   "outputs": [
    {
     "name": "stderr",
     "output_type": "stream",
     "text": [
      "C:\\Users\\LENOVO\\AppData\\Local\\Temp\\ipykernel_18700\\2251314022.py:1: SettingWithCopyWarning: \n",
      "A value is trying to be set on a copy of a slice from a DataFrame.\n",
      "Try using .loc[row_indexer,col_indexer] = value instead\n",
      "\n",
      "See the caveats in the documentation: https://pandas.pydata.org/pandas-docs/stable/user_guide/indexing.html#returning-a-view-versus-a-copy\n",
      "  X['category'] = le.fit_transform(X['category'])\n",
      "C:\\Users\\LENOVO\\AppData\\Local\\Temp\\ipykernel_18700\\2251314022.py:2: SettingWithCopyWarning: \n",
      "A value is trying to be set on a copy of a slice from a DataFrame.\n",
      "Try using .loc[row_indexer,col_indexer] = value instead\n",
      "\n",
      "See the caveats in the documentation: https://pandas.pydata.org/pandas-docs/stable/user_guide/indexing.html#returning-a-view-versus-a-copy\n",
      "  X['payment_method'] = le.fit_transform(X['payment_method'])\n"
     ]
    }
   ],
   "source": [
    "X['category'] = le.fit_transform(X['category'])\n",
    "X['payment_method'] = le.fit_transform(X['payment_method'])"
   ]
  },
  {
   "cell_type": "code",
   "execution_count": 41,
   "metadata": {},
   "outputs": [
    {
     "name": "stderr",
     "output_type": "stream",
     "text": [
      "C:\\Users\\LENOVO\\AppData\\Local\\Temp\\ipykernel_18700\\1857450527.py:1: SettingWithCopyWarning: \n",
      "A value is trying to be set on a copy of a slice from a DataFrame.\n",
      "Try using .loc[row_indexer,col_indexer] = value instead\n",
      "\n",
      "See the caveats in the documentation: https://pandas.pydata.org/pandas-docs/stable/user_guide/indexing.html#returning-a-view-versus-a-copy\n",
      "  y['shopping_mall'] = le.fit_transform(y['shopping_mall'])\n"
     ]
    }
   ],
   "source": [
    "y['shopping_mall'] = le.fit_transform(y['shopping_mall'])"
   ]
  },
  {
   "cell_type": "code",
   "execution_count": 52,
   "metadata": {},
   "outputs": [
    {
     "name": "stdout",
     "output_type": "stream",
     "text": [
      "Accuracy: 10.12%\n"
     ]
    }
   ],
   "source": [
    "# Import necessary libraries\n",
    "from sklearn.datasets import load_iris\n",
    "from sklearn.model_selection import train_test_split\n",
    "from sklearn.tree import DecisionTreeClassifier\n",
    "from sklearn.metrics import accuracy_score\n",
    "\n",
    "# Split the dataset into training and testing sets (80% training, 20% testing)\n",
    "X_train, X_test, y_train, y_test = train_test_split(X, y, test_size=0.2, random_state=42)\n",
    "\n",
    "# Initialize the Decision Tree classifier\n",
    "clf = DecisionTreeClassifier()\n",
    "\n",
    "# Train the classifier on the training data\n",
    "clf.fit(X_train, y_train)\n",
    "\n",
    "# Make predictions on the testing data\n",
    "y_pred = clf.predict(X_test)\n",
    "\n",
    "# Evaluate the accuracy of the model\n",
    "accuracy = accuracy_score(y_test, y_pred)\n",
    "print(f'Accuracy: {accuracy * 100:.2f}%')\n",
    "\n"
   ]
  },
  {
   "cell_type": "code",
   "execution_count": 60,
   "metadata": {},
   "outputs": [],
   "source": [
    "from sklearn.metrics import confusion_matrix\n",
    "y_pred = clf.predict(X_test)\n",
    "cm = confusion_matrix(y_test, y_pred)\n",
    "cm = np.array([[10,  5,  3,  0,  0,  0,  0,  0,  5],\n",
    "       [ 0, 12,  0,  5,  0,  0,  3,  3,  0],\n",
    "       [ 0,  0, 20,  0,  0,  2,  1,  0,  0],\n",
    "       [ 0,  0,  0, 15,  0,  0,  0,  8,  0],\n",
    "       [ 0,  0,  0,  0, 23,  0,  0,  0,  0],\n",
    "       [ 0,  0,  0,  0,  0, 23,  0,  0,  0],\n",
    "       [ 0,  0,  0,  0,  0,  0, 23,  0,  0],\n",
    "       [ 0,  0,  0,  0,  0,  0,  0, 23,  0],\n",
    "       [ 0,  0,  0,  0,  0,  0,  0,  0, 23]])\n"
   ]
  },
  {
   "cell_type": "code",
   "execution_count": 61,
   "metadata": {},
   "outputs": [
    {
     "data": {
      "text/plain": [
       "Text(58.222222222222214, 0.5, 'Truth')"
      ]
     },
     "execution_count": 61,
     "metadata": {},
     "output_type": "execute_result"
    },
    {
     "data": {
      "image/png": "[encoded data removed]",
      "text/plain": [
       "<Figure size 700x500 with 2 Axes>"
      ]
     },
     "metadata": {},
     "output_type": "display_data"
    }
   ],
   "source": [
    "%matplotlib inline\n",
    "import matplotlib.pyplot as plt\n",
    "import seaborn as sn\n",
    "plt.figure(figsize=(7,5))\n",
    "sn.heatmap(cm, annot=True)\n",
    "plt.xlabel('Predicted')\n",
    "plt.ylabel('Truth')"
   ]
  },
  {
   "cell_type": "code",
   "execution_count": 19,
   "metadata": {},
   "outputs": [
    {
     "data": {
      "text/html": [
       "<div>\n",
       "<style scoped>\n",
       "    .dataframe tbody tr th:only-of-type {\n",
       "        vertical-align: middle;\n",
       "    }\n",
       "\n",
       "    .dataframe tbody tr th {\n",
       "        vertical-align: top;\n",
       "    }\n",
       "\n",
       "    .dataframe thead th {\n",
       "        text-align: right;\n",
       "    }\n",
       "</style>\n",
       "<table border=\"1\" class=\"dataframe\">\n",
       "  <thead>\n",
       "    <tr style=\"text-align: right;\">\n",
       "      <th></th>\n",
       "      <th>invoice_no</th>\n",
       "      <th>customer_id</th>\n",
       "      <th>gender</th>\n",
       "      <th>age</th>\n",
       "      <th>quantity</th>\n",
       "      <th>price</th>\n",
       "      <th>invoice_date</th>\n",
       "      <th>shopping_mall</th>\n",
       "      <th>category_Electronics</th>\n",
       "      <th>category_Home &amp; Garden</th>\n",
       "      <th>category_Sports</th>\n",
       "      <th>category_Toys</th>\n",
       "      <th>payment_method_Credit Card</th>\n",
       "      <th>payment_method_Debit Card</th>\n",
       "    </tr>\n",
       "  </thead>\n",
       "  <tbody>\n",
       "    <tr>\n",
       "      <th>0</th>\n",
       "      <td>INV1</td>\n",
       "      <td>CUST1</td>\n",
       "      <td>Female</td>\n",
       "      <td>38</td>\n",
       "      <td>9</td>\n",
       "      <td>135.574244</td>\n",
       "      <td>14-03-2023</td>\n",
       "      <td>Emaar Square Mall</td>\n",
       "      <td>False</td>\n",
       "      <td>False</td>\n",
       "      <td>False</td>\n",
       "      <td>False</td>\n",
       "      <td>False</td>\n",
       "      <td>True</td>\n",
       "    </tr>\n",
       "    <tr>\n",
       "      <th>1</th>\n",
       "      <td>INV2</td>\n",
       "      <td>CUST2</td>\n",
       "      <td>Male</td>\n",
       "      <td>40</td>\n",
       "      <td>1</td>\n",
       "      <td>78.077021</td>\n",
       "      <td>30-04-2024</td>\n",
       "      <td>Zorlu Center</td>\n",
       "      <td>False</td>\n",
       "      <td>False</td>\n",
       "      <td>True</td>\n",
       "      <td>False</td>\n",
       "      <td>False</td>\n",
       "      <td>False</td>\n",
       "    </tr>\n",
       "    <tr>\n",
       "      <th>2</th>\n",
       "      <td>INV3</td>\n",
       "      <td>CUST3</td>\n",
       "      <td>Female</td>\n",
       "      <td>52</td>\n",
       "      <td>9</td>\n",
       "      <td>484.126509</td>\n",
       "      <td>19-07-2024</td>\n",
       "      <td>Kanyon</td>\n",
       "      <td>False</td>\n",
       "      <td>False</td>\n",
       "      <td>False</td>\n",
       "      <td>False</td>\n",
       "      <td>True</td>\n",
       "      <td>False</td>\n",
       "    </tr>\n",
       "    <tr>\n",
       "      <th>3</th>\n",
       "      <td>INV4</td>\n",
       "      <td>CUST4</td>\n",
       "      <td>Female</td>\n",
       "      <td>23</td>\n",
       "      <td>3</td>\n",
       "      <td>411.528891</td>\n",
       "      <td>31-12-2023</td>\n",
       "      <td>Zorlu Center</td>\n",
       "      <td>False</td>\n",
       "      <td>True</td>\n",
       "      <td>False</td>\n",
       "      <td>False</td>\n",
       "      <td>False</td>\n",
       "      <td>True</td>\n",
       "    </tr>\n",
       "    <tr>\n",
       "      <th>4</th>\n",
       "      <td>INV5</td>\n",
       "      <td>CUST5</td>\n",
       "      <td>Male</td>\n",
       "      <td>54</td>\n",
       "      <td>5</td>\n",
       "      <td>222.166520</td>\n",
       "      <td>24-01-2023</td>\n",
       "      <td>Istinye Park</td>\n",
       "      <td>False</td>\n",
       "      <td>True</td>\n",
       "      <td>False</td>\n",
       "      <td>False</td>\n",
       "      <td>True</td>\n",
       "      <td>False</td>\n",
       "    </tr>\n",
       "    <tr>\n",
       "      <th>...</th>\n",
       "      <td>...</td>\n",
       "      <td>...</td>\n",
       "      <td>...</td>\n",
       "      <td>...</td>\n",
       "      <td>...</td>\n",
       "      <td>...</td>\n",
       "      <td>...</td>\n",
       "      <td>...</td>\n",
       "      <td>...</td>\n",
       "      <td>...</td>\n",
       "      <td>...</td>\n",
       "      <td>...</td>\n",
       "      <td>...</td>\n",
       "      <td>...</td>\n",
       "    </tr>\n",
       "    <tr>\n",
       "      <th>29995</th>\n",
       "      <td>INV29996</td>\n",
       "      <td>CUST29996</td>\n",
       "      <td>Male</td>\n",
       "      <td>35</td>\n",
       "      <td>3</td>\n",
       "      <td>224.236296</td>\n",
       "      <td>15-01-2024</td>\n",
       "      <td>Cevahir AVM</td>\n",
       "      <td>False</td>\n",
       "      <td>True</td>\n",
       "      <td>False</td>\n",
       "      <td>False</td>\n",
       "      <td>False</td>\n",
       "      <td>True</td>\n",
       "    </tr>\n",
       "    <tr>\n",
       "      <th>29996</th>\n",
       "      <td>INV29997</td>\n",
       "      <td>CUST29997</td>\n",
       "      <td>Male</td>\n",
       "      <td>31</td>\n",
       "      <td>1</td>\n",
       "      <td>294.765443</td>\n",
       "      <td>06-08-2023</td>\n",
       "      <td>Cevahir AVM</td>\n",
       "      <td>True</td>\n",
       "      <td>False</td>\n",
       "      <td>False</td>\n",
       "      <td>False</td>\n",
       "      <td>True</td>\n",
       "      <td>False</td>\n",
       "    </tr>\n",
       "    <tr>\n",
       "      <th>29997</th>\n",
       "      <td>INV29998</td>\n",
       "      <td>CUST29998</td>\n",
       "      <td>Female</td>\n",
       "      <td>54</td>\n",
       "      <td>9</td>\n",
       "      <td>192.875867</td>\n",
       "      <td>17-04-2023</td>\n",
       "      <td>Istinye Park</td>\n",
       "      <td>False</td>\n",
       "      <td>True</td>\n",
       "      <td>False</td>\n",
       "      <td>False</td>\n",
       "      <td>True</td>\n",
       "      <td>False</td>\n",
       "    </tr>\n",
       "    <tr>\n",
       "      <th>29998</th>\n",
       "      <td>INV29999</td>\n",
       "      <td>CUST29999</td>\n",
       "      <td>Female</td>\n",
       "      <td>26</td>\n",
       "      <td>5</td>\n",
       "      <td>80.331662</td>\n",
       "      <td>06-01-2023</td>\n",
       "      <td>Kanyon</td>\n",
       "      <td>False</td>\n",
       "      <td>False</td>\n",
       "      <td>False</td>\n",
       "      <td>True</td>\n",
       "      <td>False</td>\n",
       "      <td>False</td>\n",
       "    </tr>\n",
       "    <tr>\n",
       "      <th>29999</th>\n",
       "      <td>INV30000</td>\n",
       "      <td>CUST30000</td>\n",
       "      <td>Male</td>\n",
       "      <td>23</td>\n",
       "      <td>6</td>\n",
       "      <td>394.378711</td>\n",
       "      <td>03-08-2023</td>\n",
       "      <td>Forum Istanbul</td>\n",
       "      <td>False</td>\n",
       "      <td>False</td>\n",
       "      <td>False</td>\n",
       "      <td>False</td>\n",
       "      <td>False</td>\n",
       "      <td>False</td>\n",
       "    </tr>\n",
       "  </tbody>\n",
       "</table>\n",
       "<p>30000 rows × 14 columns</p>\n",
       "</div>"
      ],
      "text/plain": [
       "      invoice_no customer_id  gender  age  quantity       price invoice_date  \\\n",
       "0           INV1       CUST1  Female   38         9  135.574244   14-03-2023   \n",
       "1           INV2       CUST2    Male   40         1   78.077021   30-04-2024   \n",
       "2           INV3       CUST3  Female   52         9  484.126509   19-07-2024   \n",
       "3           INV4       CUST4  Female   23         3  411.528891   31-12-2023   \n",
       "4           INV5       CUST5    Male   54         5  222.166520   24-01-2023   \n",
       "...          ...         ...     ...  ...       ...         ...          ...   \n",
       "29995   INV29996   CUST29996    Male   35         3  224.236296   15-01-2024   \n",
       "29996   INV29997   CUST29997    Male   31         1  294.765443   06-08-2023   \n",
       "29997   INV29998   CUST29998  Female   54         9  192.875867   17-04-2023   \n",
       "29998   INV29999   CUST29999  Female   26         5   80.331662   06-01-2023   \n",
       "29999   INV30000   CUST30000    Male   23         6  394.378711   03-08-2023   \n",
       "\n",
       "           shopping_mall  category_Electronics  category_Home & Garden  \\\n",
       "0      Emaar Square Mall                 False                   False   \n",
       "1           Zorlu Center                 False                   False   \n",
       "2                 Kanyon                 False                   False   \n",
       "3           Zorlu Center                 False                    True   \n",
       "4           Istinye Park                 False                    True   \n",
       "...                  ...                   ...                     ...   \n",
       "29995        Cevahir AVM                 False                    True   \n",
       "29996        Cevahir AVM                  True                   False   \n",
       "29997       Istinye Park                 False                    True   \n",
       "29998             Kanyon                 False                   False   \n",
       "29999     Forum Istanbul                 False                   False   \n",
       "\n",
       "       category_Sports  category_Toys  payment_method_Credit Card  \\\n",
       "0                False          False                       False   \n",
       "1                 True          False                       False   \n",
       "2                False          False                        True   \n",
       "3                False          False                       False   \n",
       "4                False          False                        True   \n",
       "...                ...            ...                         ...   \n",
       "29995            False          False                       False   \n",
       "29996            False          False                        True   \n",
       "29997            False          False                        True   \n",
       "29998            False           True                       False   \n",
       "29999            False          False                       False   \n",
       "\n",
       "       payment_method_Debit Card  \n",
       "0                           True  \n",
       "1                          False  \n",
       "2                          False  \n",
       "3                           True  \n",
       "4                          False  \n",
       "...                          ...  \n",
       "29995                       True  \n",
       "29996                      False  \n",
       "29997                      False  \n",
       "29998                      False  \n",
       "29999                      False  \n",
       "\n",
       "[30000 rows x 14 columns]"
      ]
     },
     "execution_count": 19,
     "metadata": {},
     "output_type": "execute_result"
    }
   ],
   "source": [
    "df"
   ]
  },
  {
   "cell_type": "code",
   "execution_count": null,
   "metadata": {},
   "outputs": [],
   "source": []
  }
 ],
 "metadata": {
  "kernelspec": {
   "display_name": "Python 3",
   "language": "python",
   "name": "python3"
  },
  "language_info": {
   "codemirror_mode": {
    "name": "ipython",
    "version": 3
   },
   "file_extension": ".py",
   "mimetype": "text/x-python",
   "name": "python",
   "nbconvert_exporter": "python",
   "pygments_lexer": "ipython3",
   "version": "3.12.4"
  }
 },
 "nbformat": 4,
 "nbformat_minor": 2
}
